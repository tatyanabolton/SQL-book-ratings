{
 "cells": [
  {
   "cell_type": "markdown",
   "id": "3ad8f765",
   "metadata": {},
   "source": [
    "## SQL - Project"
   ]
  },
  {
   "cell_type": "markdown",
   "id": "06cd5023",
   "metadata": {},
   "source": [
    "<b> Study goals: </b>\n",
    "\n",
    "The rise in the popularity of books, due to the Covid pandemic, has attracted the attention of startups that rushed to develop new apps for book lovers. \n",
    "\n",
    "This is the database of one of the services competing in the book app market. It contains data on books, publishers, authors, and customer ratings and reviews of books. This information will be used to generate a value proposition for a new product."
   ]
  },
  {
   "cell_type": "markdown",
   "id": "0c0833cf",
   "metadata": {},
   "source": [
    "### Task\n",
    "\n",
    "- Find the number of books released after January 1, 2000.\n",
    "- Find the number of user reviews and the average rating for each book.\n",
    "- Identify the publisher that has released the greatest number of books with more than 50 pages (this will help you exclude brochures and similar publications from your analysis).\n",
    "- Identify the author with the highest average book rating (look only at books with at least 50 ratings).\n",
    "- Find the average number of text reviews among users who rated more than 50 books."
   ]
  },
  {
   "cell_type": "markdown",
   "id": "94f61093",
   "metadata": {},
   "source": [
    "<a href='#step 1'>  A study of the tables </a>\n",
    "\n",
    "<a href='#step 2'>  The number of books released after January 1, 2000 </a> \n",
    "\n",
    "<a href='#step 3'> The number of user reviews and the average rating for each book </a>   \n",
    "\n",
    "<a href='#step 4'>  The publisher that has released the greatest number of books with more than 50 pages </a>    \n",
    "\n",
    "<a href='#step 5'> The author with the highest average book rating </a>\n",
    "\n",
    "<a href='#step 6'>  The average number of text reviews among users who rated more than 50 book </a>    \n",
    "\n",
    "<a href='#step 7'> Conclusion </a>\n"
   ]
  },
  {
   "cell_type": "markdown",
   "id": "5f9016bf",
   "metadata": {},
   "source": [
    "Importing the necessary libraries to be able to work with a SQL dataset."
   ]
  },
  {
   "cell_type": "code",
   "execution_count": 1,
   "id": "806c1edb",
   "metadata": {},
   "outputs": [],
   "source": [
    "# import libraries\n",
    "import pandas as pd\n",
    "from sqlalchemy import create_engine\n",
    "#!pip install psycopg2-binary"
   ]
  },
  {
   "cell_type": "markdown",
   "id": "ca9f93c9",
   "metadata": {},
   "source": [
    "The connection to the SQL database"
   ]
  },
  {
   "cell_type": "code",
   "execution_count": 2,
   "id": "85e3abe6",
   "metadata": {},
   "outputs": [],
   "source": [
    "db_config = {'user': 'praktikum_student',         # user name\n",
    "             'pwd': 'Sdf4$2;d-d30pp', # password\n",
    "             'host': 'rc1b-wcoijxj3yxfsf3fs.mdb.yandexcloud.net',\n",
    "             'port': 6432,              # connection port\n",
    "             'db': 'data-analyst-final-project-db'}          # the name of the data base\n",
    "\n",
    "connection_string = 'postgresql://{}:{}@{}:{}/{}'.format(db_config['user'],\n",
    "                                                                     db_config['pwd'],\n",
    "                                                                       db_config['host'],\n",
    "                                                                       db_config['port'],\n",
    "                                                                       db_config['db'])\n",
    "\n",
    "engine = create_engine(connection_string, connect_args={'sslmode':'require'})"
   ]
  },
  {
   "cell_type": "markdown",
   "id": "83109d88",
   "metadata": {},
   "source": [
    "<a id='step 1'></a>"
   ]
  },
  {
   "cell_type": "markdown",
   "id": "70b33580",
   "metadata": {},
   "source": [
    "## A study of the tables"
   ]
  },
  {
   "cell_type": "markdown",
   "id": "1fcb127d",
   "metadata": {},
   "source": [
    "<b> The books table </b> This table is connected to all the tabled according to the schema. It contains book_id, author_id, title, num_pages, publication_date and publisher_id. This table is the only one that contains information about dates, and it consists of 1000 rows. "
   ]
  },
  {
   "cell_type": "code",
   "execution_count": 3,
   "id": "a44b13a3",
   "metadata": {},
   "outputs": [
    {
     "data": {
      "text/html": [
       "<div>\n",
       "<style scoped>\n",
       "    .dataframe tbody tr th:only-of-type {\n",
       "        vertical-align: middle;\n",
       "    }\n",
       "\n",
       "    .dataframe tbody tr th {\n",
       "        vertical-align: top;\n",
       "    }\n",
       "\n",
       "    .dataframe thead th {\n",
       "        text-align: right;\n",
       "    }\n",
       "</style>\n",
       "<table border=\"1\" class=\"dataframe\">\n",
       "  <thead>\n",
       "    <tr style=\"text-align: right;\">\n",
       "      <th></th>\n",
       "      <th>book_id</th>\n",
       "      <th>author_id</th>\n",
       "      <th>title</th>\n",
       "      <th>num_pages</th>\n",
       "      <th>publication_date</th>\n",
       "      <th>publisher_id</th>\n",
       "    </tr>\n",
       "  </thead>\n",
       "  <tbody>\n",
       "    <tr>\n",
       "      <th>0</th>\n",
       "      <td>1</td>\n",
       "      <td>546</td>\n",
       "      <td>'Salem's Lot</td>\n",
       "      <td>594</td>\n",
       "      <td>2005-11-01</td>\n",
       "      <td>93</td>\n",
       "    </tr>\n",
       "    <tr>\n",
       "      <th>1</th>\n",
       "      <td>2</td>\n",
       "      <td>465</td>\n",
       "      <td>1 000 Places to See Before You Die</td>\n",
       "      <td>992</td>\n",
       "      <td>2003-05-22</td>\n",
       "      <td>336</td>\n",
       "    </tr>\n",
       "    <tr>\n",
       "      <th>2</th>\n",
       "      <td>3</td>\n",
       "      <td>407</td>\n",
       "      <td>13 Little Blue Envelopes (Little Blue Envelope...</td>\n",
       "      <td>322</td>\n",
       "      <td>2010-12-21</td>\n",
       "      <td>135</td>\n",
       "    </tr>\n",
       "  </tbody>\n",
       "</table>\n",
       "</div>"
      ],
      "text/plain": [
       "   book_id  author_id                                              title  \\\n",
       "0        1        546                                       'Salem's Lot   \n",
       "1        2        465                 1 000 Places to See Before You Die   \n",
       "2        3        407  13 Little Blue Envelopes (Little Blue Envelope...   \n",
       "\n",
       "   num_pages publication_date  publisher_id  \n",
       "0        594       2005-11-01            93  \n",
       "1        992       2003-05-22           336  \n",
       "2        322       2010-12-21           135  "
      ]
     },
     "execution_count": 3,
     "metadata": {},
     "output_type": "execute_result"
    }
   ],
   "source": [
    "query='SELECT * FROM books LIMIT 3;'\n",
    "pd.io.sql.read_sql(query, con = engine)"
   ]
  },
  {
   "cell_type": "code",
   "execution_count": 4,
   "id": "80f26120",
   "metadata": {},
   "outputs": [
    {
     "data": {
      "text/html": [
       "<div>\n",
       "<style scoped>\n",
       "    .dataframe tbody tr th:only-of-type {\n",
       "        vertical-align: middle;\n",
       "    }\n",
       "\n",
       "    .dataframe tbody tr th {\n",
       "        vertical-align: top;\n",
       "    }\n",
       "\n",
       "    .dataframe thead th {\n",
       "        text-align: right;\n",
       "    }\n",
       "</style>\n",
       "<table border=\"1\" class=\"dataframe\">\n",
       "  <thead>\n",
       "    <tr style=\"text-align: right;\">\n",
       "      <th></th>\n",
       "      <th>count</th>\n",
       "    </tr>\n",
       "  </thead>\n",
       "  <tbody>\n",
       "    <tr>\n",
       "      <th>0</th>\n",
       "      <td>1000</td>\n",
       "    </tr>\n",
       "  </tbody>\n",
       "</table>\n",
       "</div>"
      ],
      "text/plain": [
       "   count\n",
       "0   1000"
      ]
     },
     "execution_count": 4,
     "metadata": {},
     "output_type": "execute_result"
    }
   ],
   "source": [
    "query='SELECT COUNT(book_id) FROM books;'\n",
    "pd.io.sql.read_sql(query, con = engine)"
   ]
  },
  {
   "cell_type": "markdown",
   "id": "9cf8f7f8",
   "metadata": {},
   "source": [
    "<b> The authors table </b> This table has the names of the authors. It has two columns of author names and author_id, and contains 636 rows."
   ]
  },
  {
   "cell_type": "code",
   "execution_count": 5,
   "id": "1a293fce",
   "metadata": {},
   "outputs": [
    {
     "data": {
      "text/html": [
       "<div>\n",
       "<style scoped>\n",
       "    .dataframe tbody tr th:only-of-type {\n",
       "        vertical-align: middle;\n",
       "    }\n",
       "\n",
       "    .dataframe tbody tr th {\n",
       "        vertical-align: top;\n",
       "    }\n",
       "\n",
       "    .dataframe thead th {\n",
       "        text-align: right;\n",
       "    }\n",
       "</style>\n",
       "<table border=\"1\" class=\"dataframe\">\n",
       "  <thead>\n",
       "    <tr style=\"text-align: right;\">\n",
       "      <th></th>\n",
       "      <th>author_id</th>\n",
       "      <th>author</th>\n",
       "    </tr>\n",
       "  </thead>\n",
       "  <tbody>\n",
       "    <tr>\n",
       "      <th>0</th>\n",
       "      <td>1</td>\n",
       "      <td>A.S. Byatt</td>\n",
       "    </tr>\n",
       "    <tr>\n",
       "      <th>1</th>\n",
       "      <td>2</td>\n",
       "      <td>Aesop/Laura Harris/Laura Gibbs</td>\n",
       "    </tr>\n",
       "    <tr>\n",
       "      <th>2</th>\n",
       "      <td>3</td>\n",
       "      <td>Agatha Christie</td>\n",
       "    </tr>\n",
       "  </tbody>\n",
       "</table>\n",
       "</div>"
      ],
      "text/plain": [
       "   author_id                          author\n",
       "0          1                      A.S. Byatt\n",
       "1          2  Aesop/Laura Harris/Laura Gibbs\n",
       "2          3                 Agatha Christie"
      ]
     },
     "execution_count": 5,
     "metadata": {},
     "output_type": "execute_result"
    }
   ],
   "source": [
    "query='SELECT * FROM authors LIMIT 3;'\n",
    "pd.io.sql.read_sql(query, con = engine)"
   ]
  },
  {
   "cell_type": "code",
   "execution_count": 6,
   "id": "f9f24573",
   "metadata": {},
   "outputs": [
    {
     "data": {
      "text/html": [
       "<div>\n",
       "<style scoped>\n",
       "    .dataframe tbody tr th:only-of-type {\n",
       "        vertical-align: middle;\n",
       "    }\n",
       "\n",
       "    .dataframe tbody tr th {\n",
       "        vertical-align: top;\n",
       "    }\n",
       "\n",
       "    .dataframe thead th {\n",
       "        text-align: right;\n",
       "    }\n",
       "</style>\n",
       "<table border=\"1\" class=\"dataframe\">\n",
       "  <thead>\n",
       "    <tr style=\"text-align: right;\">\n",
       "      <th></th>\n",
       "      <th>count</th>\n",
       "    </tr>\n",
       "  </thead>\n",
       "  <tbody>\n",
       "    <tr>\n",
       "      <th>0</th>\n",
       "      <td>636</td>\n",
       "    </tr>\n",
       "  </tbody>\n",
       "</table>\n",
       "</div>"
      ],
      "text/plain": [
       "   count\n",
       "0    636"
      ]
     },
     "execution_count": 6,
     "metadata": {},
     "output_type": "execute_result"
    }
   ],
   "source": [
    "query='SELECT count(author) FROM authors;'\n",
    "pd.io.sql.read_sql(query, con = engine)"
   ]
  },
  {
   "cell_type": "markdown",
   "id": "d6152879",
   "metadata": {},
   "source": [
    "<b> The ratings table </b> This table has information about book ratings. It has 4 columns rating_id, book_id, username and rating and it contains 6456 rows.  \n",
    "\n",
    "The rating column is a measured from 1 to 5."
   ]
  },
  {
   "cell_type": "code",
   "execution_count": 7,
   "id": "0d3da252",
   "metadata": {},
   "outputs": [
    {
     "data": {
      "text/html": [
       "<div>\n",
       "<style scoped>\n",
       "    .dataframe tbody tr th:only-of-type {\n",
       "        vertical-align: middle;\n",
       "    }\n",
       "\n",
       "    .dataframe tbody tr th {\n",
       "        vertical-align: top;\n",
       "    }\n",
       "\n",
       "    .dataframe thead th {\n",
       "        text-align: right;\n",
       "    }\n",
       "</style>\n",
       "<table border=\"1\" class=\"dataframe\">\n",
       "  <thead>\n",
       "    <tr style=\"text-align: right;\">\n",
       "      <th></th>\n",
       "      <th>rating_id</th>\n",
       "      <th>book_id</th>\n",
       "      <th>username</th>\n",
       "      <th>rating</th>\n",
       "    </tr>\n",
       "  </thead>\n",
       "  <tbody>\n",
       "    <tr>\n",
       "      <th>0</th>\n",
       "      <td>1</td>\n",
       "      <td>1</td>\n",
       "      <td>ryanfranco</td>\n",
       "      <td>4</td>\n",
       "    </tr>\n",
       "    <tr>\n",
       "      <th>1</th>\n",
       "      <td>2</td>\n",
       "      <td>1</td>\n",
       "      <td>grantpatricia</td>\n",
       "      <td>2</td>\n",
       "    </tr>\n",
       "    <tr>\n",
       "      <th>2</th>\n",
       "      <td>3</td>\n",
       "      <td>1</td>\n",
       "      <td>brandtandrea</td>\n",
       "      <td>5</td>\n",
       "    </tr>\n",
       "    <tr>\n",
       "      <th>3</th>\n",
       "      <td>4</td>\n",
       "      <td>2</td>\n",
       "      <td>lorichen</td>\n",
       "      <td>3</td>\n",
       "    </tr>\n",
       "    <tr>\n",
       "      <th>4</th>\n",
       "      <td>5</td>\n",
       "      <td>2</td>\n",
       "      <td>mariokeller</td>\n",
       "      <td>2</td>\n",
       "    </tr>\n",
       "  </tbody>\n",
       "</table>\n",
       "</div>"
      ],
      "text/plain": [
       "   rating_id  book_id       username  rating\n",
       "0          1        1     ryanfranco       4\n",
       "1          2        1  grantpatricia       2\n",
       "2          3        1   brandtandrea       5\n",
       "3          4        2       lorichen       3\n",
       "4          5        2    mariokeller       2"
      ]
     },
     "execution_count": 7,
     "metadata": {},
     "output_type": "execute_result"
    }
   ],
   "source": [
    "query='SELECT * FROM ratings LIMIT 5;'\n",
    "pd.io.sql.read_sql(query, con = engine)"
   ]
  },
  {
   "cell_type": "code",
   "execution_count": 8,
   "id": "0714340d",
   "metadata": {},
   "outputs": [
    {
     "data": {
      "text/html": [
       "<div>\n",
       "<style scoped>\n",
       "    .dataframe tbody tr th:only-of-type {\n",
       "        vertical-align: middle;\n",
       "    }\n",
       "\n",
       "    .dataframe tbody tr th {\n",
       "        vertical-align: top;\n",
       "    }\n",
       "\n",
       "    .dataframe thead th {\n",
       "        text-align: right;\n",
       "    }\n",
       "</style>\n",
       "<table border=\"1\" class=\"dataframe\">\n",
       "  <thead>\n",
       "    <tr style=\"text-align: right;\">\n",
       "      <th></th>\n",
       "      <th>count</th>\n",
       "    </tr>\n",
       "  </thead>\n",
       "  <tbody>\n",
       "    <tr>\n",
       "      <th>0</th>\n",
       "      <td>6456</td>\n",
       "    </tr>\n",
       "  </tbody>\n",
       "</table>\n",
       "</div>"
      ],
      "text/plain": [
       "   count\n",
       "0   6456"
      ]
     },
     "execution_count": 8,
     "metadata": {},
     "output_type": "execute_result"
    }
   ],
   "source": [
    "query='SELECT count(username) FROM ratings;'\n",
    "pd.io.sql.read_sql(query, con = engine)"
   ]
  },
  {
   "cell_type": "markdown",
   "id": "8f0a3b3f",
   "metadata": {},
   "source": [
    "<b> The reviews table </b> This table has information about book written reviews, it has 4 columns review_id, book_id, username and text (the review) and it contains 2793 rows.  \n",
    "\n",
    "*The review text field itself does not look legible. "
   ]
  },
  {
   "cell_type": "code",
   "execution_count": 9,
   "id": "f95ededf",
   "metadata": {},
   "outputs": [
    {
     "data": {
      "text/html": [
       "<div>\n",
       "<style scoped>\n",
       "    .dataframe tbody tr th:only-of-type {\n",
       "        vertical-align: middle;\n",
       "    }\n",
       "\n",
       "    .dataframe tbody tr th {\n",
       "        vertical-align: top;\n",
       "    }\n",
       "\n",
       "    .dataframe thead th {\n",
       "        text-align: right;\n",
       "    }\n",
       "</style>\n",
       "<table border=\"1\" class=\"dataframe\">\n",
       "  <thead>\n",
       "    <tr style=\"text-align: right;\">\n",
       "      <th></th>\n",
       "      <th>review_id</th>\n",
       "      <th>book_id</th>\n",
       "      <th>username</th>\n",
       "      <th>text</th>\n",
       "    </tr>\n",
       "  </thead>\n",
       "  <tbody>\n",
       "    <tr>\n",
       "      <th>0</th>\n",
       "      <td>1</td>\n",
       "      <td>1</td>\n",
       "      <td>brandtandrea</td>\n",
       "      <td>Mention society tell send professor analysis. ...</td>\n",
       "    </tr>\n",
       "    <tr>\n",
       "      <th>1</th>\n",
       "      <td>2</td>\n",
       "      <td>1</td>\n",
       "      <td>ryanfranco</td>\n",
       "      <td>Foot glass pretty audience hit themselves. Amo...</td>\n",
       "    </tr>\n",
       "    <tr>\n",
       "      <th>2</th>\n",
       "      <td>3</td>\n",
       "      <td>2</td>\n",
       "      <td>lorichen</td>\n",
       "      <td>Listen treat keep worry. Miss husband tax but ...</td>\n",
       "    </tr>\n",
       "  </tbody>\n",
       "</table>\n",
       "</div>"
      ],
      "text/plain": [
       "   review_id  book_id      username  \\\n",
       "0          1        1  brandtandrea   \n",
       "1          2        1    ryanfranco   \n",
       "2          3        2      lorichen   \n",
       "\n",
       "                                                text  \n",
       "0  Mention society tell send professor analysis. ...  \n",
       "1  Foot glass pretty audience hit themselves. Amo...  \n",
       "2  Listen treat keep worry. Miss husband tax but ...  "
      ]
     },
     "execution_count": 9,
     "metadata": {},
     "output_type": "execute_result"
    }
   ],
   "source": [
    "query='SELECT * FROM reviews LIMIT 3;'\n",
    "pd.io.sql.read_sql(query, con = engine)"
   ]
  },
  {
   "cell_type": "code",
   "execution_count": 10,
   "id": "d23cf34b",
   "metadata": {},
   "outputs": [
    {
     "data": {
      "text/html": [
       "<div>\n",
       "<style scoped>\n",
       "    .dataframe tbody tr th:only-of-type {\n",
       "        vertical-align: middle;\n",
       "    }\n",
       "\n",
       "    .dataframe tbody tr th {\n",
       "        vertical-align: top;\n",
       "    }\n",
       "\n",
       "    .dataframe thead th {\n",
       "        text-align: right;\n",
       "    }\n",
       "</style>\n",
       "<table border=\"1\" class=\"dataframe\">\n",
       "  <thead>\n",
       "    <tr style=\"text-align: right;\">\n",
       "      <th></th>\n",
       "      <th>count</th>\n",
       "    </tr>\n",
       "  </thead>\n",
       "  <tbody>\n",
       "    <tr>\n",
       "      <th>0</th>\n",
       "      <td>2793</td>\n",
       "    </tr>\n",
       "  </tbody>\n",
       "</table>\n",
       "</div>"
      ],
      "text/plain": [
       "   count\n",
       "0   2793"
      ]
     },
     "execution_count": 10,
     "metadata": {},
     "output_type": "execute_result"
    }
   ],
   "source": [
    "query='SELECT count(username) FROM reviews;'\n",
    "pd.io.sql.read_sql(query, con = engine)"
   ]
  },
  {
   "cell_type": "markdown",
   "id": "fea56be8",
   "metadata": {},
   "source": [
    "<b> The publishers table </b> This table has information about the names of publishers. It has 2 columns publisher_id and publisher and it contains 340 rows.  "
   ]
  },
  {
   "cell_type": "code",
   "execution_count": 11,
   "id": "95fa5a5a",
   "metadata": {},
   "outputs": [
    {
     "data": {
      "text/html": [
       "<div>\n",
       "<style scoped>\n",
       "    .dataframe tbody tr th:only-of-type {\n",
       "        vertical-align: middle;\n",
       "    }\n",
       "\n",
       "    .dataframe tbody tr th {\n",
       "        vertical-align: top;\n",
       "    }\n",
       "\n",
       "    .dataframe thead th {\n",
       "        text-align: right;\n",
       "    }\n",
       "</style>\n",
       "<table border=\"1\" class=\"dataframe\">\n",
       "  <thead>\n",
       "    <tr style=\"text-align: right;\">\n",
       "      <th></th>\n",
       "      <th>publisher_id</th>\n",
       "      <th>publisher</th>\n",
       "    </tr>\n",
       "  </thead>\n",
       "  <tbody>\n",
       "    <tr>\n",
       "      <th>0</th>\n",
       "      <td>1</td>\n",
       "      <td>Ace</td>\n",
       "    </tr>\n",
       "    <tr>\n",
       "      <th>1</th>\n",
       "      <td>2</td>\n",
       "      <td>Ace Book</td>\n",
       "    </tr>\n",
       "    <tr>\n",
       "      <th>2</th>\n",
       "      <td>3</td>\n",
       "      <td>Ace Books</td>\n",
       "    </tr>\n",
       "  </tbody>\n",
       "</table>\n",
       "</div>"
      ],
      "text/plain": [
       "   publisher_id  publisher\n",
       "0             1        Ace\n",
       "1             2   Ace Book\n",
       "2             3  Ace Books"
      ]
     },
     "execution_count": 11,
     "metadata": {},
     "output_type": "execute_result"
    }
   ],
   "source": [
    "query='SELECT * FROM publishers LIMIT 3;'\n",
    "pd.io.sql.read_sql(query, con = engine)"
   ]
  },
  {
   "cell_type": "code",
   "execution_count": 12,
   "id": "965e7d32",
   "metadata": {
    "scrolled": true
   },
   "outputs": [
    {
     "data": {
      "text/html": [
       "<div>\n",
       "<style scoped>\n",
       "    .dataframe tbody tr th:only-of-type {\n",
       "        vertical-align: middle;\n",
       "    }\n",
       "\n",
       "    .dataframe tbody tr th {\n",
       "        vertical-align: top;\n",
       "    }\n",
       "\n",
       "    .dataframe thead th {\n",
       "        text-align: right;\n",
       "    }\n",
       "</style>\n",
       "<table border=\"1\" class=\"dataframe\">\n",
       "  <thead>\n",
       "    <tr style=\"text-align: right;\">\n",
       "      <th></th>\n",
       "      <th>count</th>\n",
       "    </tr>\n",
       "  </thead>\n",
       "  <tbody>\n",
       "    <tr>\n",
       "      <th>0</th>\n",
       "      <td>340</td>\n",
       "    </tr>\n",
       "  </tbody>\n",
       "</table>\n",
       "</div>"
      ],
      "text/plain": [
       "   count\n",
       "0    340"
      ]
     },
     "execution_count": 12,
     "metadata": {},
     "output_type": "execute_result"
    }
   ],
   "source": [
    "query='SELECT count(publisher) FROM publishers;'\n",
    "pd.io.sql.read_sql(query, con = engine)"
   ]
  },
  {
   "cell_type": "markdown",
   "id": "557b9ae6",
   "metadata": {},
   "source": [
    "<a id='step 2'></a>"
   ]
  },
  {
   "cell_type": "markdown",
   "id": "392d859e",
   "metadata": {},
   "source": [
    "## The number of books released after January 1, 2000."
   ]
  },
  {
   "cell_type": "markdown",
   "id": "bbe77791",
   "metadata": {},
   "source": [
    "To answer this question I sliced the data on the books table by date on the publication_date column and used the COUNT function.  The result of this query is a count of <b> 819 </b> books."
   ]
  },
  {
   "cell_type": "code",
   "execution_count": 13,
   "id": "058224cd",
   "metadata": {},
   "outputs": [
    {
     "data": {
      "text/html": [
       "<div>\n",
       "<style scoped>\n",
       "    .dataframe tbody tr th:only-of-type {\n",
       "        vertical-align: middle;\n",
       "    }\n",
       "\n",
       "    .dataframe tbody tr th {\n",
       "        vertical-align: top;\n",
       "    }\n",
       "\n",
       "    .dataframe thead th {\n",
       "        text-align: right;\n",
       "    }\n",
       "</style>\n",
       "<table border=\"1\" class=\"dataframe\">\n",
       "  <thead>\n",
       "    <tr style=\"text-align: right;\">\n",
       "      <th></th>\n",
       "      <th>count</th>\n",
       "    </tr>\n",
       "  </thead>\n",
       "  <tbody>\n",
       "    <tr>\n",
       "      <th>0</th>\n",
       "      <td>819</td>\n",
       "    </tr>\n",
       "  </tbody>\n",
       "</table>\n",
       "</div>"
      ],
      "text/plain": [
       "   count\n",
       "0    819"
      ]
     },
     "execution_count": 13,
     "metadata": {},
     "output_type": "execute_result"
    }
   ],
   "source": [
    "query='''\n",
    "    SELECT count(publication_date)  \n",
    "    FROM books \n",
    "    WHERE publication_date > '2000-01-01';'''\n",
    "pd.io.sql.read_sql(query, con = engine)"
   ]
  },
  {
   "cell_type": "markdown",
   "id": "97773992",
   "metadata": {},
   "source": [
    "<a id='step 3'></a>"
   ]
  },
  {
   "cell_type": "markdown",
   "id": "8124afc4",
   "metadata": {},
   "source": [
    "## The number of user reviews and the average rating for each book."
   ]
  },
  {
   "cell_type": "markdown",
   "id": "2dac67ab",
   "metadata": {},
   "source": [
    "In order to create this table I joined three tables with NATURAL JOIN: books and ratings and books and reviews. I used GROUP BY to group the data according to the book title. I used the AVG function to calculate the average ratings and the count to count the reviews on each book. I used the LIMIT operator to show the first 5 values or the data."
   ]
  },
  {
   "cell_type": "code",
   "execution_count": 14,
   "id": "7d847253",
   "metadata": {},
   "outputs": [
    {
     "data": {
      "text/html": [
       "<div>\n",
       "<style scoped>\n",
       "    .dataframe tbody tr th:only-of-type {\n",
       "        vertical-align: middle;\n",
       "    }\n",
       "\n",
       "    .dataframe tbody tr th {\n",
       "        vertical-align: top;\n",
       "    }\n",
       "\n",
       "    .dataframe thead th {\n",
       "        text-align: right;\n",
       "    }\n",
       "</style>\n",
       "<table border=\"1\" class=\"dataframe\">\n",
       "  <thead>\n",
       "    <tr style=\"text-align: right;\">\n",
       "      <th></th>\n",
       "      <th>title</th>\n",
       "      <th>count</th>\n",
       "      <th>avg</th>\n",
       "    </tr>\n",
       "  </thead>\n",
       "  <tbody>\n",
       "    <tr>\n",
       "      <th>0</th>\n",
       "      <td>'Salem's Lot</td>\n",
       "      <td>2</td>\n",
       "      <td>4.500000</td>\n",
       "    </tr>\n",
       "    <tr>\n",
       "      <th>1</th>\n",
       "      <td>1 000 Places to See Before You Die</td>\n",
       "      <td>1</td>\n",
       "      <td>3.000000</td>\n",
       "    </tr>\n",
       "    <tr>\n",
       "      <th>2</th>\n",
       "      <td>13 Little Blue Envelopes (Little Blue Envelope...</td>\n",
       "      <td>3</td>\n",
       "      <td>4.666667</td>\n",
       "    </tr>\n",
       "    <tr>\n",
       "      <th>3</th>\n",
       "      <td>1491: New Revelations of the Americas Before C...</td>\n",
       "      <td>2</td>\n",
       "      <td>4.500000</td>\n",
       "    </tr>\n",
       "    <tr>\n",
       "      <th>4</th>\n",
       "      <td>1776</td>\n",
       "      <td>4</td>\n",
       "      <td>4.250000</td>\n",
       "    </tr>\n",
       "  </tbody>\n",
       "</table>\n",
       "</div>"
      ],
      "text/plain": [
       "                                               title  count       avg\n",
       "0                                       'Salem's Lot      2  4.500000\n",
       "1                 1 000 Places to See Before You Die      1  3.000000\n",
       "2  13 Little Blue Envelopes (Little Blue Envelope...      3  4.666667\n",
       "3  1491: New Revelations of the Americas Before C...      2  4.500000\n",
       "4                                               1776      4  4.250000"
      ]
     },
     "execution_count": 14,
     "metadata": {},
     "output_type": "execute_result"
    }
   ],
   "source": [
    "query='''\n",
    "    SELECT DISTINCT  title,\n",
    "           COUNT(text),\n",
    "           AVG(rating)            \n",
    "    FROM books\n",
    "    NATURAL JOIN ratings\n",
    "    NATURAL JOIN reviews\n",
    "   \n",
    "    GROUP BY book_id\n",
    "    LIMIT 5\n",
    "   ;'''\n",
    "pd.io.sql.read_sql(query, con = engine)"
   ]
  },
  {
   "cell_type": "code",
   "execution_count": 15,
   "id": "b7ac04ea",
   "metadata": {},
   "outputs": [
    {
     "data": {
      "text/html": [
       "<div>\n",
       "<style scoped>\n",
       "    .dataframe tbody tr th:only-of-type {\n",
       "        vertical-align: middle;\n",
       "    }\n",
       "\n",
       "    .dataframe tbody tr th {\n",
       "        vertical-align: top;\n",
       "    }\n",
       "\n",
       "    .dataframe thead th {\n",
       "        text-align: right;\n",
       "    }\n",
       "</style>\n",
       "<table border=\"1\" class=\"dataframe\">\n",
       "  <thead>\n",
       "    <tr style=\"text-align: right;\">\n",
       "      <th></th>\n",
       "      <th>book_title</th>\n",
       "      <th>average_rating</th>\n",
       "      <th>count_reviews</th>\n",
       "    </tr>\n",
       "  </thead>\n",
       "  <tbody>\n",
       "    <tr>\n",
       "      <th>0</th>\n",
       "      <td>'Salem's Lot</td>\n",
       "      <td>3.666667</td>\n",
       "      <td>2</td>\n",
       "    </tr>\n",
       "    <tr>\n",
       "      <th>1</th>\n",
       "      <td>1 000 Places to See Before You Die</td>\n",
       "      <td>2.500000</td>\n",
       "      <td>1</td>\n",
       "    </tr>\n",
       "    <tr>\n",
       "      <th>2</th>\n",
       "      <td>13 Little Blue Envelopes (Little Blue Envelope...</td>\n",
       "      <td>4.666667</td>\n",
       "      <td>3</td>\n",
       "    </tr>\n",
       "    <tr>\n",
       "      <th>3</th>\n",
       "      <td>1491: New Revelations of the Americas Before C...</td>\n",
       "      <td>4.500000</td>\n",
       "      <td>2</td>\n",
       "    </tr>\n",
       "    <tr>\n",
       "      <th>4</th>\n",
       "      <td>1776</td>\n",
       "      <td>4.000000</td>\n",
       "      <td>4</td>\n",
       "    </tr>\n",
       "  </tbody>\n",
       "</table>\n",
       "</div>"
      ],
      "text/plain": [
       "                                          book_title  average_rating  \\\n",
       "0                                       'Salem's Lot        3.666667   \n",
       "1                 1 000 Places to See Before You Die        2.500000   \n",
       "2  13 Little Blue Envelopes (Little Blue Envelope...        4.666667   \n",
       "3  1491: New Revelations of the Americas Before C...        4.500000   \n",
       "4                                               1776        4.000000   \n",
       "\n",
       "   count_reviews  \n",
       "0              2  \n",
       "1              1  \n",
       "2              3  \n",
       "3              2  \n",
       "4              4  "
      ]
     },
     "execution_count": 15,
     "metadata": {},
     "output_type": "execute_result"
    }
   ],
   "source": [
    "query='''\n",
    "    SELECT b.title as book_title, \n",
    "            avg(r.rating) as average_rating,\n",
    "            count(DISTINCT re.review_id) as count_reviews \n",
    "    FROM books as b \n",
    "    LEFT JOIN ratings as r on b.book_id = r.book_id \n",
    "    LEFT JOIN reviews as re on b.book_id = re.book_id \n",
    "    GROUP BY b.title LIMIT 5;'''\n",
    "pd.io.sql.read_sql(query, con = engine)"
   ]
  },
  {
   "cell_type": "markdown",
   "id": "c3ad75e2",
   "metadata": {},
   "source": [
    "<a id='step 4'></a>"
   ]
  },
  {
   "cell_type": "markdown",
   "id": "527ccd43",
   "metadata": {},
   "source": [
    "## The publisher that has released the greatest number of books with more than 50 pages (this will help you exclude brochures and similar publications from your analysis)."
   ]
  },
  {
   "cell_type": "markdown",
   "id": "b2b75d75",
   "metadata": {},
   "source": [
    "In this query I selected the publisher name from the publishers table, I used the LEFT JOIN to join the books table, the WHERE operator to filter books with more than 50 pages, GROUP BY publisher_id and  ORDER BY the sum of book_id in descending order. I limited the table with LIMIT to 1, in order to get the publisher that has released the greatest number of books.\n",
    "\n",
    " <b> The most prolific publisher is Penguin Books. </b>\n",
    "\n",
    "In order to ensure a correct outcome I added another code cell below with a table containing the count of books in a column. "
   ]
  },
  {
   "cell_type": "code",
   "execution_count": 16,
   "id": "1b777528",
   "metadata": {},
   "outputs": [
    {
     "data": {
      "text/html": [
       "<div>\n",
       "<style scoped>\n",
       "    .dataframe tbody tr th:only-of-type {\n",
       "        vertical-align: middle;\n",
       "    }\n",
       "\n",
       "    .dataframe tbody tr th {\n",
       "        vertical-align: top;\n",
       "    }\n",
       "\n",
       "    .dataframe thead th {\n",
       "        text-align: right;\n",
       "    }\n",
       "</style>\n",
       "<table border=\"1\" class=\"dataframe\">\n",
       "  <thead>\n",
       "    <tr style=\"text-align: right;\">\n",
       "      <th></th>\n",
       "      <th>publisher</th>\n",
       "    </tr>\n",
       "  </thead>\n",
       "  <tbody>\n",
       "    <tr>\n",
       "      <th>0</th>\n",
       "      <td>Penguin Books</td>\n",
       "    </tr>\n",
       "  </tbody>\n",
       "</table>\n",
       "</div>"
      ],
      "text/plain": [
       "       publisher\n",
       "0  Penguin Books"
      ]
     },
     "execution_count": 16,
     "metadata": {},
     "output_type": "execute_result"
    }
   ],
   "source": [
    "query='''\n",
    "    SELECT p.publisher \n",
    "    FROM publishers as p \n",
    "    LEFT JOIN books as b on p.publisher_id = b.publisher_id\n",
    "    WHERE b.num_pages > 50 \n",
    "    GROUP BY p.publisher\n",
    "    ORDER BY count(b.book_id) DESC LIMIT 1;'''\n",
    "pd.io.sql.read_sql(query, con = engine)\n",
    "\n"
   ]
  },
  {
   "cell_type": "code",
   "execution_count": 17,
   "id": "9c8c2ae5",
   "metadata": {},
   "outputs": [
    {
     "data": {
      "text/html": [
       "<div>\n",
       "<style scoped>\n",
       "    .dataframe tbody tr th:only-of-type {\n",
       "        vertical-align: middle;\n",
       "    }\n",
       "\n",
       "    .dataframe tbody tr th {\n",
       "        vertical-align: top;\n",
       "    }\n",
       "\n",
       "    .dataframe thead th {\n",
       "        text-align: right;\n",
       "    }\n",
       "</style>\n",
       "<table border=\"1\" class=\"dataframe\">\n",
       "  <thead>\n",
       "    <tr style=\"text-align: right;\">\n",
       "      <th></th>\n",
       "      <th>publisher</th>\n",
       "      <th>count</th>\n",
       "    </tr>\n",
       "  </thead>\n",
       "  <tbody>\n",
       "    <tr>\n",
       "      <th>0</th>\n",
       "      <td>Penguin Books</td>\n",
       "      <td>42</td>\n",
       "    </tr>\n",
       "    <tr>\n",
       "      <th>1</th>\n",
       "      <td>Vintage</td>\n",
       "      <td>31</td>\n",
       "    </tr>\n",
       "    <tr>\n",
       "      <th>2</th>\n",
       "      <td>Grand Central Publishing</td>\n",
       "      <td>25</td>\n",
       "    </tr>\n",
       "    <tr>\n",
       "      <th>3</th>\n",
       "      <td>Penguin Classics</td>\n",
       "      <td>24</td>\n",
       "    </tr>\n",
       "    <tr>\n",
       "      <th>4</th>\n",
       "      <td>Bantam</td>\n",
       "      <td>19</td>\n",
       "    </tr>\n",
       "  </tbody>\n",
       "</table>\n",
       "</div>"
      ],
      "text/plain": [
       "                  publisher  count\n",
       "0             Penguin Books     42\n",
       "1                   Vintage     31\n",
       "2  Grand Central Publishing     25\n",
       "3          Penguin Classics     24\n",
       "4                    Bantam     19"
      ]
     },
     "execution_count": 17,
     "metadata": {},
     "output_type": "execute_result"
    }
   ],
   "source": [
    "query='''\n",
    "    SELECT p.publisher, \n",
    "           count(b.book_id) \n",
    "    FROM publishers as p \n",
    "    LEFT JOIN books as b on p.publisher_id = b.publisher_id \n",
    "    WHERE b.num_pages > 50 \n",
    "    GROUP BY p.publisher \n",
    "    ORDER BY count(b.book_id) DESC \n",
    "    LIMIT 5 ;'''\n",
    "pd.io.sql.read_sql(query, con = engine)"
   ]
  },
  {
   "cell_type": "markdown",
   "id": "cfcc2dd4",
   "metadata": {},
   "source": [
    "<a id='step 5'></a>"
   ]
  },
  {
   "cell_type": "markdown",
   "id": "cb678bdd",
   "metadata": {},
   "source": [
    "## The author with the highest average book rating (look only at books with at least 50 ratings)."
   ]
  },
  {
   "cell_type": "markdown",
   "id": "5d67b8a8",
   "metadata": {},
   "source": [
    "In this query I selected the authors name from the authors table, I used LEFT JOIN to join the authors table with the books table and used JOIN again to add the ratings from the ratings table , I grouped by author name and used the HAVING operator to filter out authors with less then 50 ratings on their books. I used ORDER BY to organize the new table by average rating in descending order and limited to 1.\n",
    "\n",
    "<b> The author with the highest average book rating is Ann Patchett </b>\n",
    "\n",
    "An average is a problematic parameter on it's own, it doesn't indicate how many values it took to gt to that result. So I decided to include a table with the same logic with a limit of 5.\n",
    "\n",
    "\n",
    "\n",
    "I constructed this query starting with averaging and filtering the books with over 50 ratings, then I used those books in a FROM subquery, that I joined with the books table. The joint table I put in yet another FROM subquery that I joined with the author table, calculated the average book rating per author.  \n"
   ]
  },
  {
   "cell_type": "code",
   "execution_count": 22,
   "id": "6f08aa32",
   "metadata": {},
   "outputs": [
    {
     "data": {
      "text/html": [
       "<div>\n",
       "<style scoped>\n",
       "    .dataframe tbody tr th:only-of-type {\n",
       "        vertical-align: middle;\n",
       "    }\n",
       "\n",
       "    .dataframe tbody tr th {\n",
       "        vertical-align: top;\n",
       "    }\n",
       "\n",
       "    .dataframe thead th {\n",
       "        text-align: right;\n",
       "    }\n",
       "</style>\n",
       "<table border=\"1\" class=\"dataframe\">\n",
       "  <thead>\n",
       "    <tr style=\"text-align: right;\">\n",
       "      <th></th>\n",
       "      <th>author</th>\n",
       "      <th>avg</th>\n",
       "    </tr>\n",
       "  </thead>\n",
       "  <tbody>\n",
       "    <tr>\n",
       "      <th>0</th>\n",
       "      <td>J.K. Rowling/Mary GrandPré</td>\n",
       "      <td>4.283844</td>\n",
       "    </tr>\n",
       "    <tr>\n",
       "      <th>1</th>\n",
       "      <td>Markus Zusak/Cao Xuân Việt Khương</td>\n",
       "      <td>4.264151</td>\n",
       "    </tr>\n",
       "    <tr>\n",
       "      <th>2</th>\n",
       "      <td>J.R.R. Tolkien</td>\n",
       "      <td>4.258446</td>\n",
       "    </tr>\n",
       "    <tr>\n",
       "      <th>3</th>\n",
       "      <td>Louisa May Alcott</td>\n",
       "      <td>4.192308</td>\n",
       "    </tr>\n",
       "    <tr>\n",
       "      <th>4</th>\n",
       "      <td>Rick Riordan</td>\n",
       "      <td>4.080645</td>\n",
       "    </tr>\n",
       "  </tbody>\n",
       "</table>\n",
       "</div>"
      ],
      "text/plain": [
       "                              author       avg\n",
       "0         J.K. Rowling/Mary GrandPré  4.283844\n",
       "1  Markus Zusak/Cao Xuân Việt Khương  4.264151\n",
       "2                     J.R.R. Tolkien  4.258446\n",
       "3                  Louisa May Alcott  4.192308\n",
       "4                       Rick Riordan  4.080645"
      ]
     },
     "execution_count": 22,
     "metadata": {},
     "output_type": "execute_result"
    }
   ],
   "source": [
    "query='''\n",
    "SELECT au.author,\n",
    "       AVG(br.avg_bookr)\n",
    "          \n",
    "   FROM (SELECT book.book_id,\n",
    "                bo.author_id,\n",
    "                book.book_rating as avg_bookr\n",
    "         FROM (SELECT book_id,\n",
    "               avg(rating) as book_rating\n",
    "               FROM ratings \n",
    "               GROUP BY book_id \n",
    "               HAVING COUNT(rating) >= 50) as book\n",
    "         LEFT JOIN books as bo on book.book_id=bo.book_id\n",
    "         GROUP BY book.book_id, bo.author_id, book.book_rating ) as br\n",
    "    \n",
    "JOIN authors as au on br.author_id = au.author_id\n",
    "GROUP BY au.author\n",
    "ORDER BY AVG(br.avg_bookr) DESC LIMIT 5\n",
    "    ;'''\n",
    "pd.io.sql.read_sql(query, con = engine)"
   ]
  },
  {
   "cell_type": "markdown",
   "id": "8c6dd96f",
   "metadata": {},
   "source": [
    "<a id='step 6'></a>"
   ]
  },
  {
   "cell_type": "markdown",
   "id": "da442f68",
   "metadata": {},
   "source": [
    "## The average number of text reviews among users who rated more than 50 books."
   ]
  },
  {
   "cell_type": "markdown",
   "id": "fc56d906",
   "metadata": {},
   "source": [
    "In order to find the average number of text reviews among users who rated more than 50 books, I needed to use a subquery in FROM, I added the subquery calculation in the following cell. I used a WHERE subquery to filter the raitings over 50 .\n",
    "\n",
    "<b> The average number of text reviews among users who rated more than 50 books is 24.3 </b>"
   ]
  },
  {
   "cell_type": "code",
   "execution_count": 20,
   "id": "5b6d29b1",
   "metadata": {},
   "outputs": [
    {
     "data": {
      "text/html": [
       "<div>\n",
       "<style scoped>\n",
       "    .dataframe tbody tr th:only-of-type {\n",
       "        vertical-align: middle;\n",
       "    }\n",
       "\n",
       "    .dataframe tbody tr th {\n",
       "        vertical-align: top;\n",
       "    }\n",
       "\n",
       "    .dataframe thead th {\n",
       "        text-align: right;\n",
       "    }\n",
       "</style>\n",
       "<table border=\"1\" class=\"dataframe\">\n",
       "  <thead>\n",
       "    <tr style=\"text-align: right;\">\n",
       "      <th></th>\n",
       "      <th>avg</th>\n",
       "    </tr>\n",
       "  </thead>\n",
       "  <tbody>\n",
       "    <tr>\n",
       "      <th>0</th>\n",
       "      <td>24.333333</td>\n",
       "    </tr>\n",
       "  </tbody>\n",
       "</table>\n",
       "</div>"
      ],
      "text/plain": [
       "         avg\n",
       "0  24.333333"
      ]
     },
     "execution_count": 20,
     "metadata": {},
     "output_type": "execute_result"
    }
   ],
   "source": [
    "query='''\n",
    "    SELECT AVG(count.counttext)\n",
    "    FROM (SELECT  username, \n",
    "         COUNT(text) as counttext\n",
    "    FROM reviews\n",
    "    GROUP BY username\n",
    "    ORDER BY count(text) DESC) as count\n",
    "    \n",
    "    WHERE username IN ( SELECT username \n",
    "                          --- count(rating)\n",
    "                        FROM ratings\n",
    "                        GROUP BY username\n",
    "                        HAVING count(rating) > 50\n",
    "                        ORDER BY count(rating) DESC)\n",
    "    ;''' \n",
    "pd.io.sql.read_sql(query, con = engine)"
   ]
  },
  {
   "cell_type": "markdown",
   "id": "15dfc201",
   "metadata": {},
   "source": [
    "<a id='step 7'></a>"
   ]
  },
  {
   "cell_type": "markdown",
   "id": "cd992bc7",
   "metadata": {},
   "source": [
    "### Conclusion : \n",
    "\n",
    "After examining the queries and retrieving the necessary information, I think it would have been helpful to have a detailed description of the future app idea. An analyst may have experience and different ideas about what additional information could be helpful for this type of company. \n",
    "\n",
    "As a way to explain the logic behind my calculations I included additional tables to the ones requested. \n",
    "\n",
    "The questions I raised during the analysis (how many reviews contributed, or how many books by an author) might also feed into the value proposition of the startup's new product."
   ]
  }
 ],
 "metadata": {
  "ExecuteTimeLog": [
   {
    "duration": 2762,
    "start_time": "2022-04-21T12:45:34.662Z"
   },
   {
    "duration": 6150,
    "start_time": "2022-04-21T12:45:37.426Z"
   },
   {
    "duration": 244,
    "start_time": "2022-04-21T12:45:43.577Z"
   },
   {
    "duration": 72,
    "start_time": "2022-04-21T12:45:43.822Z"
   },
   {
    "duration": 72,
    "start_time": "2022-04-21T12:45:43.895Z"
   },
   {
    "duration": 72,
    "start_time": "2022-04-21T12:45:43.968Z"
   },
   {
    "duration": 74,
    "start_time": "2022-04-21T12:45:44.041Z"
   },
   {
    "duration": 72,
    "start_time": "2022-04-21T12:45:44.116Z"
   },
   {
    "duration": 73,
    "start_time": "2022-04-21T12:45:44.190Z"
   },
   {
    "duration": 73,
    "start_time": "2022-04-21T12:45:44.266Z"
   },
   {
    "duration": 73,
    "start_time": "2022-04-21T12:45:44.340Z"
   },
   {
    "duration": 71,
    "start_time": "2022-04-21T12:45:44.415Z"
   },
   {
    "duration": 71,
    "start_time": "2022-04-21T12:45:44.487Z"
   },
   {
    "duration": 82,
    "start_time": "2022-04-21T12:45:44.560Z"
   },
   {
    "duration": 72,
    "start_time": "2022-04-21T12:45:44.644Z"
   },
   {
    "duration": 73,
    "start_time": "2022-04-21T12:45:44.718Z"
   },
   {
    "duration": 75,
    "start_time": "2022-04-21T12:45:44.793Z"
   },
   {
    "duration": 76,
    "start_time": "2022-04-21T12:45:44.870Z"
   },
   {
    "duration": 82,
    "start_time": "2022-04-21T12:45:44.948Z"
   },
   {
    "duration": 79,
    "start_time": "2022-04-21T12:45:45.032Z"
   },
   {
    "duration": 524,
    "start_time": "2022-04-21T18:06:17.419Z"
   },
   {
    "duration": 5954,
    "start_time": "2022-04-21T18:06:17.947Z"
   },
   {
    "duration": 256,
    "start_time": "2022-04-21T18:06:23.903Z"
   },
   {
    "duration": 76,
    "start_time": "2022-04-21T18:06:24.161Z"
   },
   {
    "duration": 76,
    "start_time": "2022-04-21T18:06:24.238Z"
   },
   {
    "duration": 76,
    "start_time": "2022-04-21T18:06:24.316Z"
   },
   {
    "duration": 78,
    "start_time": "2022-04-21T18:06:24.394Z"
   },
   {
    "duration": 75,
    "start_time": "2022-04-21T18:06:24.474Z"
   },
   {
    "duration": 77,
    "start_time": "2022-04-21T18:06:24.551Z"
   },
   {
    "duration": 77,
    "start_time": "2022-04-21T18:06:24.630Z"
   },
   {
    "duration": 76,
    "start_time": "2022-04-21T18:06:24.708Z"
   },
   {
    "duration": 74,
    "start_time": "2022-04-21T18:06:24.786Z"
   },
   {
    "duration": 76,
    "start_time": "2022-04-21T18:06:24.862Z"
   },
   {
    "duration": 87,
    "start_time": "2022-04-21T18:06:24.939Z"
   },
   {
    "duration": 77,
    "start_time": "2022-04-21T18:06:25.028Z"
   },
   {
    "duration": 77,
    "start_time": "2022-04-21T18:06:25.106Z"
   },
   {
    "duration": 80,
    "start_time": "2022-04-21T18:06:25.185Z"
   },
   {
    "duration": 81,
    "start_time": "2022-04-21T18:06:25.266Z"
   },
   {
    "duration": 83,
    "start_time": "2022-04-21T18:06:25.349Z"
   },
   {
    "duration": 84,
    "start_time": "2022-04-21T18:06:25.434Z"
   },
   {
    "duration": 77,
    "start_time": "2022-04-21T18:19:51.629Z"
   },
   {
    "duration": 113,
    "start_time": "2022-04-21T18:20:34.716Z"
   },
   {
    "duration": 107,
    "start_time": "2022-04-21T18:20:46.693Z"
   },
   {
    "duration": 112,
    "start_time": "2022-04-21T18:21:17.328Z"
   },
   {
    "duration": 87,
    "start_time": "2022-04-21T18:21:20.647Z"
   },
   {
    "duration": 162,
    "start_time": "2022-04-21T18:22:10.029Z"
   },
   {
    "duration": 1158,
    "start_time": "2022-04-21T18:22:57.650Z"
   },
   {
    "duration": 363,
    "start_time": "2022-04-21T18:23:05.056Z"
   },
   {
    "duration": 162,
    "start_time": "2022-04-21T18:23:30.176Z"
   },
   {
    "duration": 76,
    "start_time": "2022-04-21T18:23:55.007Z"
   },
   {
    "duration": 76,
    "start_time": "2022-04-21T18:24:02.927Z"
   },
   {
    "duration": 65,
    "start_time": "2022-04-22T18:09:51.320Z"
   },
   {
    "duration": 665,
    "start_time": "2022-04-22T18:10:01.531Z"
   },
   {
    "duration": 7285,
    "start_time": "2022-04-22T18:10:02.198Z"
   },
   {
    "duration": 250,
    "start_time": "2022-04-22T18:10:09.485Z"
   },
   {
    "duration": 75,
    "start_time": "2022-04-22T18:10:09.738Z"
   },
   {
    "duration": 74,
    "start_time": "2022-04-22T18:10:09.815Z"
   },
   {
    "duration": 72,
    "start_time": "2022-04-22T18:10:09.890Z"
   },
   {
    "duration": 75,
    "start_time": "2022-04-22T18:10:09.963Z"
   },
   {
    "duration": 74,
    "start_time": "2022-04-22T18:10:10.040Z"
   },
   {
    "duration": 76,
    "start_time": "2022-04-22T18:10:10.116Z"
   },
   {
    "duration": 72,
    "start_time": "2022-04-22T18:10:10.194Z"
   },
   {
    "duration": 74,
    "start_time": "2022-04-22T18:10:10.267Z"
   },
   {
    "duration": 73,
    "start_time": "2022-04-22T18:10:10.343Z"
   },
   {
    "duration": 76,
    "start_time": "2022-04-22T18:10:10.418Z"
   },
   {
    "duration": 90,
    "start_time": "2022-04-22T18:10:10.496Z"
   },
   {
    "duration": 155,
    "start_time": "2022-04-22T18:10:10.588Z"
   },
   {
    "duration": 77,
    "start_time": "2022-04-22T18:10:10.745Z"
   },
   {
    "duration": 75,
    "start_time": "2022-04-22T18:10:10.824Z"
   },
   {
    "duration": 78,
    "start_time": "2022-04-22T18:10:10.901Z"
   },
   {
    "duration": 77,
    "start_time": "2022-04-22T18:10:10.981Z"
   },
   {
    "duration": 79,
    "start_time": "2022-04-22T18:10:11.060Z"
   },
   {
    "duration": 81,
    "start_time": "2022-04-22T18:10:11.141Z"
   },
   {
    "duration": 76,
    "start_time": "2022-04-22T18:10:25.741Z"
   },
   {
    "duration": 72,
    "start_time": "2022-04-22T18:11:54.493Z"
   },
   {
    "duration": 73,
    "start_time": "2022-04-22T18:12:49.193Z"
   },
   {
    "duration": 71,
    "start_time": "2022-04-22T18:14:12.834Z"
   },
   {
    "duration": 88,
    "start_time": "2022-04-22T18:15:00.519Z"
   },
   {
    "duration": 81,
    "start_time": "2022-04-22T18:15:17.422Z"
   },
   {
    "duration": 77,
    "start_time": "2022-04-22T18:19:36.927Z"
   },
   {
    "duration": 77,
    "start_time": "2022-04-22T18:21:39.096Z"
   },
   {
    "duration": 89,
    "start_time": "2022-04-22T18:21:41.565Z"
   },
   {
    "duration": 987,
    "start_time": "2022-04-22T18:22:42.543Z"
   },
   {
    "duration": 81,
    "start_time": "2022-04-22T18:23:27.487Z"
   },
   {
    "duration": 72,
    "start_time": "2022-04-22T18:56:46.525Z"
   },
   {
    "duration": 151,
    "start_time": "2022-04-22T18:57:18.170Z"
   },
   {
    "duration": 148,
    "start_time": "2022-04-22T18:57:26.340Z"
   },
   {
    "duration": 291,
    "start_time": "2022-04-22T19:00:57.788Z"
   },
   {
    "duration": 186,
    "start_time": "2022-04-22T19:01:44.092Z"
   },
   {
    "duration": 151,
    "start_time": "2022-04-22T19:02:06.668Z"
   },
   {
    "duration": 154,
    "start_time": "2022-04-22T19:06:52.068Z"
   },
   {
    "duration": 166,
    "start_time": "2022-04-22T19:07:49.965Z"
   },
   {
    "duration": 163,
    "start_time": "2022-04-22T19:08:30.638Z"
   },
   {
    "duration": 150,
    "start_time": "2022-04-22T19:09:59.439Z"
   },
   {
    "duration": 147,
    "start_time": "2022-04-22T19:10:38.711Z"
   },
   {
    "duration": 83,
    "start_time": "2022-04-22T19:20:52.297Z"
   },
   {
    "duration": 153,
    "start_time": "2022-04-22T19:23:47.865Z"
   },
   {
    "duration": 149,
    "start_time": "2022-04-22T19:26:44.304Z"
   },
   {
    "duration": 547,
    "start_time": "2022-04-23T07:58:38.029Z"
   },
   {
    "duration": 8397,
    "start_time": "2022-04-23T07:58:38.578Z"
   },
   {
    "duration": 245,
    "start_time": "2022-04-23T07:58:46.976Z"
   },
   {
    "duration": 72,
    "start_time": "2022-04-23T07:58:47.222Z"
   },
   {
    "duration": 72,
    "start_time": "2022-04-23T07:58:47.296Z"
   },
   {
    "duration": 72,
    "start_time": "2022-04-23T07:58:47.370Z"
   },
   {
    "duration": 72,
    "start_time": "2022-04-23T07:58:47.443Z"
   },
   {
    "duration": 73,
    "start_time": "2022-04-23T07:58:47.516Z"
   },
   {
    "duration": 73,
    "start_time": "2022-04-23T07:58:47.590Z"
   },
   {
    "duration": 71,
    "start_time": "2022-04-23T07:58:47.665Z"
   },
   {
    "duration": 73,
    "start_time": "2022-04-23T07:58:47.738Z"
   },
   {
    "duration": 72,
    "start_time": "2022-04-23T07:58:47.813Z"
   },
   {
    "duration": 72,
    "start_time": "2022-04-23T07:58:47.887Z"
   },
   {
    "duration": 83,
    "start_time": "2022-04-23T07:58:47.963Z"
   },
   {
    "duration": 158,
    "start_time": "2022-04-23T07:58:48.048Z"
   },
   {
    "duration": 149,
    "start_time": "2022-04-23T07:58:48.207Z"
   },
   {
    "duration": 73,
    "start_time": "2022-04-23T07:58:48.357Z"
   },
   {
    "duration": 74,
    "start_time": "2022-04-23T07:58:48.432Z"
   },
   {
    "duration": 75,
    "start_time": "2022-04-23T07:58:48.508Z"
   },
   {
    "duration": 76,
    "start_time": "2022-04-23T07:58:48.585Z"
   },
   {
    "duration": 80,
    "start_time": "2022-04-23T07:58:48.663Z"
   },
   {
    "duration": 81,
    "start_time": "2022-04-23T07:58:48.745Z"
   },
   {
    "duration": 84,
    "start_time": "2022-04-23T08:45:03.749Z"
   },
   {
    "duration": 83,
    "start_time": "2022-04-23T08:45:26.495Z"
   },
   {
    "duration": 73,
    "start_time": "2022-04-23T08:59:56.777Z"
   },
   {
    "duration": 96,
    "start_time": "2022-04-23T09:00:07.415Z"
   },
   {
    "duration": 74,
    "start_time": "2022-04-23T09:00:13.778Z"
   },
   {
    "duration": 88,
    "start_time": "2022-04-23T09:03:21.395Z"
   },
   {
    "duration": 79,
    "start_time": "2022-04-23T09:03:29.222Z"
   },
   {
    "duration": 83,
    "start_time": "2022-04-23T09:05:08.302Z"
   },
   {
    "duration": 83,
    "start_time": "2022-04-23T09:05:32.900Z"
   },
   {
    "duration": 342,
    "start_time": "2022-04-23T09:05:44.074Z"
   },
   {
    "duration": 74,
    "start_time": "2022-04-23T09:05:57.579Z"
   },
   {
    "duration": 80,
    "start_time": "2022-04-23T09:06:09.220Z"
   },
   {
    "duration": 343,
    "start_time": "2022-04-23T09:06:15.907Z"
   },
   {
    "duration": 82,
    "start_time": "2022-04-23T09:06:28.892Z"
   },
   {
    "duration": 75,
    "start_time": "2022-04-23T09:06:39.996Z"
   },
   {
    "duration": 76,
    "start_time": "2022-04-23T09:07:07.283Z"
   },
   {
    "duration": 81,
    "start_time": "2022-04-23T09:08:34.445Z"
   },
   {
    "duration": 88,
    "start_time": "2022-04-23T09:37:55.348Z"
   },
   {
    "duration": 94,
    "start_time": "2022-04-23T09:38:16.907Z"
   },
   {
    "duration": 84,
    "start_time": "2022-04-23T09:40:35.749Z"
   },
   {
    "duration": 105,
    "start_time": "2022-04-23T09:48:06.818Z"
   },
   {
    "duration": 69,
    "start_time": "2022-04-24T07:27:07.599Z"
   },
   {
    "duration": 619,
    "start_time": "2022-04-24T07:27:19.131Z"
   },
   {
    "duration": 11174,
    "start_time": "2022-04-24T07:27:19.752Z"
   },
   {
    "duration": 54,
    "start_time": "2022-04-24T07:27:30.928Z"
   },
   {
    "duration": 15,
    "start_time": "2022-04-24T07:27:30.985Z"
   },
   {
    "duration": 15,
    "start_time": "2022-04-24T07:27:31.002Z"
   },
   {
    "duration": 18,
    "start_time": "2022-04-24T07:27:31.020Z"
   },
   {
    "duration": 17,
    "start_time": "2022-04-24T07:27:31.040Z"
   },
   {
    "duration": 40,
    "start_time": "2022-04-24T07:27:31.059Z"
   },
   {
    "duration": 16,
    "start_time": "2022-04-24T07:27:31.101Z"
   },
   {
    "duration": 14,
    "start_time": "2022-04-24T07:27:31.121Z"
   },
   {
    "duration": 15,
    "start_time": "2022-04-24T07:27:31.137Z"
   },
   {
    "duration": 49,
    "start_time": "2022-04-24T07:27:31.154Z"
   },
   {
    "duration": 15,
    "start_time": "2022-04-24T07:27:31.206Z"
   },
   {
    "duration": 27,
    "start_time": "2022-04-24T07:27:31.223Z"
   },
   {
    "duration": 34,
    "start_time": "2022-04-24T07:27:31.252Z"
   },
   {
    "duration": 37,
    "start_time": "2022-04-24T07:27:31.288Z"
   },
   {
    "duration": 14,
    "start_time": "2022-04-24T07:27:31.327Z"
   },
   {
    "duration": 33,
    "start_time": "2022-04-24T07:27:31.343Z"
   },
   {
    "duration": 17,
    "start_time": "2022-04-24T07:27:31.378Z"
   },
   {
    "duration": 20,
    "start_time": "2022-04-24T07:27:31.397Z"
   },
   {
    "duration": 336,
    "start_time": "2022-04-24T07:27:31.420Z"
   },
   {
    "duration": 0,
    "start_time": "2022-04-24T07:27:31.758Z"
   },
   {
    "duration": 0,
    "start_time": "2022-04-24T07:27:31.760Z"
   },
   {
    "duration": 0,
    "start_time": "2022-04-24T07:27:31.762Z"
   },
   {
    "duration": 22,
    "start_time": "2022-04-24T07:28:03.381Z"
   },
   {
    "duration": 23,
    "start_time": "2022-04-24T07:28:04.947Z"
   },
   {
    "duration": 256,
    "start_time": "2022-04-24T07:28:06.741Z"
   },
   {
    "duration": 23,
    "start_time": "2022-04-24T07:28:55.788Z"
   },
   {
    "duration": 197,
    "start_time": "2022-04-24T07:38:10.098Z"
   },
   {
    "duration": 409,
    "start_time": "2022-04-24T07:40:29.125Z"
   },
   {
    "duration": 279,
    "start_time": "2022-04-24T07:41:00.568Z"
   },
   {
    "duration": 236,
    "start_time": "2022-04-24T07:41:05.867Z"
   },
   {
    "duration": 146,
    "start_time": "2022-04-24T07:41:23.470Z"
   },
   {
    "duration": 188,
    "start_time": "2022-04-24T07:42:12.207Z"
   },
   {
    "duration": 182,
    "start_time": "2022-04-24T07:42:27.621Z"
   },
   {
    "duration": 187,
    "start_time": "2022-04-24T07:43:20.035Z"
   },
   {
    "duration": 195,
    "start_time": "2022-04-24T07:44:22.267Z"
   },
   {
    "duration": 28,
    "start_time": "2022-04-24T07:45:12.361Z"
   },
   {
    "duration": 30,
    "start_time": "2022-04-24T07:46:44.890Z"
   },
   {
    "duration": 10,
    "start_time": "2022-04-24T07:57:59.060Z"
   },
   {
    "duration": 190,
    "start_time": "2022-04-24T07:58:22.510Z"
   },
   {
    "duration": 226,
    "start_time": "2022-04-24T08:01:36.024Z"
   },
   {
    "duration": 32,
    "start_time": "2022-04-24T08:01:50.524Z"
   },
   {
    "duration": 32,
    "start_time": "2022-04-24T08:02:33.078Z"
   },
   {
    "duration": 32,
    "start_time": "2022-04-24T08:04:07.565Z"
   },
   {
    "duration": 244,
    "start_time": "2022-04-24T08:04:20.272Z"
   },
   {
    "duration": 236,
    "start_time": "2022-04-24T08:04:54.230Z"
   },
   {
    "duration": 249,
    "start_time": "2022-04-24T08:05:54.515Z"
   },
   {
    "duration": 75,
    "start_time": "2022-04-24T08:06:13.370Z"
   },
   {
    "duration": 38,
    "start_time": "2022-04-24T08:06:34.718Z"
   },
   {
    "duration": 251,
    "start_time": "2022-04-24T08:07:52.520Z"
   },
   {
    "duration": 23,
    "start_time": "2022-04-24T08:08:09.449Z"
   },
   {
    "duration": 241,
    "start_time": "2022-04-24T08:09:05.113Z"
   },
   {
    "duration": 20,
    "start_time": "2022-04-24T08:09:26.850Z"
   },
   {
    "duration": 238,
    "start_time": "2022-04-24T08:09:50.745Z"
   },
   {
    "duration": 22,
    "start_time": "2022-04-24T08:10:01.682Z"
   },
   {
    "duration": 223,
    "start_time": "2022-04-24T08:10:27.113Z"
   },
   {
    "duration": 264,
    "start_time": "2022-04-24T08:10:30.903Z"
   },
   {
    "duration": 223,
    "start_time": "2022-04-24T08:10:38.364Z"
   },
   {
    "duration": 246,
    "start_time": "2022-04-24T08:11:17.805Z"
   },
   {
    "duration": 21,
    "start_time": "2022-04-24T08:11:29.721Z"
   },
   {
    "duration": 245,
    "start_time": "2022-04-24T08:12:17.054Z"
   },
   {
    "duration": 238,
    "start_time": "2022-04-24T08:13:05.561Z"
   },
   {
    "duration": 32,
    "start_time": "2022-04-24T08:13:14.219Z"
   },
   {
    "duration": 24,
    "start_time": "2022-04-24T08:14:17.085Z"
   },
   {
    "duration": 226,
    "start_time": "2022-04-24T08:14:58.010Z"
   },
   {
    "duration": 20,
    "start_time": "2022-04-24T08:16:35.475Z"
   },
   {
    "duration": 230,
    "start_time": "2022-04-24T08:18:53.725Z"
   },
   {
    "duration": 241,
    "start_time": "2022-04-24T08:19:12.477Z"
   },
   {
    "duration": 17,
    "start_time": "2022-04-24T08:19:56.407Z"
   },
   {
    "duration": 34,
    "start_time": "2022-04-24T08:20:07.915Z"
   },
   {
    "duration": 471,
    "start_time": "2022-04-24T08:20:13.573Z"
   },
   {
    "duration": 35,
    "start_time": "2022-04-24T08:20:26.493Z"
   },
   {
    "duration": 21,
    "start_time": "2022-04-24T08:21:09.166Z"
   },
   {
    "duration": 234,
    "start_time": "2022-04-24T08:24:03.723Z"
   },
   {
    "duration": 243,
    "start_time": "2022-04-24T08:25:10.738Z"
   },
   {
    "duration": 20,
    "start_time": "2022-04-24T08:25:38.177Z"
   },
   {
    "duration": 239,
    "start_time": "2022-04-24T08:26:27.574Z"
   },
   {
    "duration": 230,
    "start_time": "2022-04-24T08:26:47.122Z"
   },
   {
    "duration": 246,
    "start_time": "2022-04-24T08:26:48.788Z"
   },
   {
    "duration": 257,
    "start_time": "2022-04-24T08:27:11.486Z"
   },
   {
    "duration": 245,
    "start_time": "2022-04-24T08:27:27.776Z"
   },
   {
    "duration": 272,
    "start_time": "2022-04-24T08:27:41.428Z"
   },
   {
    "duration": 20,
    "start_time": "2022-04-24T08:27:55.871Z"
   },
   {
    "duration": 26,
    "start_time": "2022-04-24T08:28:18.664Z"
   },
   {
    "duration": 18,
    "start_time": "2022-04-24T08:29:28.833Z"
   },
   {
    "duration": 227,
    "start_time": "2022-04-24T08:29:56.792Z"
   },
   {
    "duration": 243,
    "start_time": "2022-04-24T08:30:04.011Z"
   },
   {
    "duration": 19,
    "start_time": "2022-04-24T08:30:13.728Z"
   },
   {
    "duration": 226,
    "start_time": "2022-04-24T08:30:20.379Z"
   },
   {
    "duration": 21,
    "start_time": "2022-04-24T08:30:54.704Z"
   },
   {
    "duration": 31,
    "start_time": "2022-04-24T08:31:57.241Z"
   },
   {
    "duration": 22,
    "start_time": "2022-04-24T08:39:30.301Z"
   },
   {
    "duration": 238,
    "start_time": "2022-04-24T08:39:53.931Z"
   },
   {
    "duration": 21,
    "start_time": "2022-04-24T08:40:02.178Z"
   },
   {
    "duration": 20,
    "start_time": "2022-04-24T08:40:32.024Z"
   },
   {
    "duration": 18,
    "start_time": "2022-04-24T08:41:33.265Z"
   },
   {
    "duration": 20,
    "start_time": "2022-04-24T08:42:58.244Z"
   },
   {
    "duration": 21,
    "start_time": "2022-04-24T08:43:10.924Z"
   },
   {
    "duration": 235,
    "start_time": "2022-04-24T08:44:13.206Z"
   },
   {
    "duration": 22,
    "start_time": "2022-04-24T08:44:26.880Z"
   },
   {
    "duration": 251,
    "start_time": "2022-04-24T08:45:16.237Z"
   },
   {
    "duration": 26,
    "start_time": "2022-04-24T08:45:22.853Z"
   },
   {
    "duration": 21,
    "start_time": "2022-04-24T08:45:56.309Z"
   },
   {
    "duration": 17,
    "start_time": "2022-04-24T08:46:28.037Z"
   },
   {
    "duration": 4,
    "start_time": "2022-04-24T08:47:23.258Z"
   },
   {
    "duration": 41,
    "start_time": "2022-04-24T09:15:22.113Z"
   },
   {
    "duration": 228,
    "start_time": "2022-04-24T09:19:07.591Z"
   },
   {
    "duration": 23,
    "start_time": "2022-04-24T09:19:13.231Z"
   },
   {
    "duration": 20,
    "start_time": "2022-04-24T09:19:53.217Z"
   },
   {
    "duration": 234,
    "start_time": "2022-04-24T09:25:21.575Z"
   },
   {
    "duration": 240,
    "start_time": "2022-04-24T09:29:35.613Z"
   },
   {
    "duration": 278,
    "start_time": "2022-04-24T09:30:12.627Z"
   },
   {
    "duration": 227,
    "start_time": "2022-04-24T09:30:42.386Z"
   },
   {
    "duration": 294,
    "start_time": "2022-04-24T09:31:15.435Z"
   },
   {
    "duration": 229,
    "start_time": "2022-04-24T09:32:17.341Z"
   },
   {
    "duration": 21,
    "start_time": "2022-04-24T09:32:28.390Z"
   },
   {
    "duration": 21,
    "start_time": "2022-04-24T09:33:06.237Z"
   },
   {
    "duration": 280,
    "start_time": "2022-04-24T09:34:26.331Z"
   },
   {
    "duration": 219,
    "start_time": "2022-04-24T09:34:35.861Z"
   },
   {
    "duration": 237,
    "start_time": "2022-04-24T09:34:58.715Z"
   },
   {
    "duration": 24,
    "start_time": "2022-04-24T09:35:58.570Z"
   },
   {
    "duration": 18,
    "start_time": "2022-04-24T09:45:43.087Z"
   },
   {
    "duration": 19,
    "start_time": "2022-04-24T09:49:11.032Z"
   },
   {
    "duration": 254,
    "start_time": "2022-04-24T09:51:09.512Z"
   },
   {
    "duration": 20,
    "start_time": "2022-04-24T09:51:27.769Z"
   },
   {
    "duration": 22,
    "start_time": "2022-04-24T09:51:57.817Z"
   },
   {
    "duration": 73,
    "start_time": "2022-04-24T09:54:00.317Z"
   },
   {
    "duration": 259,
    "start_time": "2022-04-24T09:55:17.029Z"
   },
   {
    "duration": 25,
    "start_time": "2022-04-24T09:55:24.180Z"
   },
   {
    "duration": 23,
    "start_time": "2022-04-24T09:56:16.058Z"
   },
   {
    "duration": 24,
    "start_time": "2022-04-24T09:56:38.122Z"
   },
   {
    "duration": 235,
    "start_time": "2022-04-24T09:58:13.342Z"
   },
   {
    "duration": 252,
    "start_time": "2022-04-24T09:58:56.188Z"
   },
   {
    "duration": 249,
    "start_time": "2022-04-24T10:00:12.387Z"
   },
   {
    "duration": 250,
    "start_time": "2022-04-24T10:00:30.640Z"
   },
   {
    "duration": 5,
    "start_time": "2022-04-24T10:01:19.900Z"
   },
   {
    "duration": 26,
    "start_time": "2022-04-24T10:01:32.320Z"
   },
   {
    "duration": 21,
    "start_time": "2022-04-24T10:02:15.637Z"
   },
   {
    "duration": 253,
    "start_time": "2022-04-24T10:10:01.682Z"
   },
   {
    "duration": 248,
    "start_time": "2022-04-24T10:10:45.202Z"
   },
   {
    "duration": 21,
    "start_time": "2022-04-24T10:11:02.987Z"
   },
   {
    "duration": 30,
    "start_time": "2022-04-24T10:20:10.917Z"
   },
   {
    "duration": 35,
    "start_time": "2022-04-24T10:23:05.354Z"
   },
   {
    "duration": 243,
    "start_time": "2022-04-24T10:32:46.550Z"
   },
   {
    "duration": 289,
    "start_time": "2022-04-24T10:36:06.375Z"
   },
   {
    "duration": 39,
    "start_time": "2022-04-24T10:44:03.392Z"
   },
   {
    "duration": 26,
    "start_time": "2022-04-24T10:46:54.441Z"
   },
   {
    "duration": 26,
    "start_time": "2022-04-24T10:52:17.154Z"
   },
   {
    "duration": 238,
    "start_time": "2022-04-24T10:59:39.489Z"
   },
   {
    "duration": 248,
    "start_time": "2022-04-24T11:00:03.847Z"
   },
   {
    "duration": 241,
    "start_time": "2022-04-24T11:01:14.542Z"
   },
   {
    "duration": 24,
    "start_time": "2022-04-24T11:01:35.267Z"
   },
   {
    "duration": 239,
    "start_time": "2022-04-24T11:01:47.125Z"
   },
   {
    "duration": 241,
    "start_time": "2022-04-24T11:02:02.744Z"
   },
   {
    "duration": 249,
    "start_time": "2022-04-24T11:02:25.466Z"
   },
   {
    "duration": 28,
    "start_time": "2022-04-24T11:02:40.446Z"
   },
   {
    "duration": 32,
    "start_time": "2022-04-24T11:03:13.079Z"
   },
   {
    "duration": 241,
    "start_time": "2022-04-24T11:04:08.805Z"
   },
   {
    "duration": 234,
    "start_time": "2022-04-24T11:04:14.487Z"
   },
   {
    "duration": 22,
    "start_time": "2022-04-24T11:04:19.772Z"
   },
   {
    "duration": 28,
    "start_time": "2022-04-24T11:04:25.700Z"
   },
   {
    "duration": 29,
    "start_time": "2022-04-24T11:04:52.288Z"
   },
   {
    "duration": 243,
    "start_time": "2022-04-24T12:10:17.874Z"
   },
   {
    "duration": 20,
    "start_time": "2022-04-24T12:10:29.213Z"
   },
   {
    "duration": 236,
    "start_time": "2022-04-24T12:13:47.172Z"
   },
   {
    "duration": 261,
    "start_time": "2022-04-24T12:14:51.789Z"
   },
   {
    "duration": 325,
    "start_time": "2022-04-24T12:15:03.281Z"
   },
   {
    "duration": 22,
    "start_time": "2022-04-24T12:15:12.053Z"
   },
   {
    "duration": 241,
    "start_time": "2022-04-24T12:15:23.262Z"
   },
   {
    "duration": 19,
    "start_time": "2022-04-24T12:26:33.073Z"
   },
   {
    "duration": 539,
    "start_time": "2022-04-24T18:00:10.347Z"
   },
   {
    "duration": 10508,
    "start_time": "2022-04-24T18:00:10.888Z"
   },
   {
    "duration": 298,
    "start_time": "2022-04-24T18:00:21.398Z"
   },
   {
    "duration": 80,
    "start_time": "2022-04-24T18:00:21.698Z"
   },
   {
    "duration": 77,
    "start_time": "2022-04-24T18:00:21.780Z"
   },
   {
    "duration": 72,
    "start_time": "2022-04-24T18:00:21.859Z"
   },
   {
    "duration": 97,
    "start_time": "2022-04-24T18:00:21.932Z"
   },
   {
    "duration": 94,
    "start_time": "2022-04-24T18:00:22.032Z"
   },
   {
    "duration": 90,
    "start_time": "2022-04-24T18:00:22.128Z"
   },
   {
    "duration": 89,
    "start_time": "2022-04-24T18:00:22.220Z"
   },
   {
    "duration": 88,
    "start_time": "2022-04-24T18:00:22.311Z"
   },
   {
    "duration": 97,
    "start_time": "2022-04-24T18:00:22.401Z"
   },
   {
    "duration": 90,
    "start_time": "2022-04-24T18:00:22.500Z"
   },
   {
    "duration": 103,
    "start_time": "2022-04-24T18:00:22.592Z"
   },
   {
    "duration": 191,
    "start_time": "2022-04-24T18:00:22.696Z"
   },
   {
    "duration": 92,
    "start_time": "2022-04-24T18:00:22.889Z"
   },
   {
    "duration": 200,
    "start_time": "2022-04-24T18:00:22.983Z"
   },
   {
    "duration": 99,
    "start_time": "2022-04-24T18:00:23.185Z"
   },
   {
    "duration": 84,
    "start_time": "2022-04-24T18:00:23.286Z"
   },
   {
    "duration": 85,
    "start_time": "2022-04-24T18:00:23.371Z"
   },
   {
    "duration": 78,
    "start_time": "2022-04-24T18:00:23.458Z"
   },
   {
    "duration": 79,
    "start_time": "2022-04-24T18:00:23.537Z"
   },
   {
    "duration": 94,
    "start_time": "2022-04-24T18:00:23.617Z"
   },
   {
    "duration": 2,
    "start_time": "2022-04-24T18:00:23.713Z"
   },
   {
    "duration": 103,
    "start_time": "2022-04-24T18:00:23.716Z"
   },
   {
    "duration": 97,
    "start_time": "2022-04-24T18:01:05.061Z"
   },
   {
    "duration": 100,
    "start_time": "2022-04-24T18:01:20.918Z"
   },
   {
    "duration": 95,
    "start_time": "2022-04-24T18:03:09.698Z"
   },
   {
    "duration": 128,
    "start_time": "2022-04-24T18:03:15.453Z"
   },
   {
    "duration": 132,
    "start_time": "2022-04-24T18:03:19.688Z"
   },
   {
    "duration": 510,
    "start_time": "2022-04-24T18:03:26.551Z"
   },
   {
    "duration": 392,
    "start_time": "2022-04-24T18:03:47.607Z"
   },
   {
    "duration": 87,
    "start_time": "2022-04-24T18:05:44.622Z"
   },
   {
    "duration": 361,
    "start_time": "2022-04-24T18:08:12.183Z"
   },
   {
    "duration": 160,
    "start_time": "2022-04-24T18:08:24.102Z"
   },
   {
    "duration": 150,
    "start_time": "2022-04-24T18:18:21.007Z"
   },
   {
    "duration": 256,
    "start_time": "2022-04-24T18:21:26.918Z"
   },
   {
    "duration": 101,
    "start_time": "2022-04-24T18:21:47.179Z"
   },
   {
    "duration": 89,
    "start_time": "2022-04-24T18:23:11.385Z"
   },
   {
    "duration": 83,
    "start_time": "2022-04-24T18:24:20.374Z"
   },
   {
    "duration": 170,
    "start_time": "2022-04-24T18:25:07.901Z"
   },
   {
    "duration": 175,
    "start_time": "2022-04-24T18:25:55.226Z"
   },
   {
    "duration": 101,
    "start_time": "2022-04-24T18:28:16.956Z"
   },
   {
    "duration": 228,
    "start_time": "2022-04-24T18:28:59.882Z"
   },
   {
    "duration": 235,
    "start_time": "2022-04-24T18:29:16.170Z"
   },
   {
    "duration": 119,
    "start_time": "2022-04-24T18:29:48.883Z"
   },
   {
    "duration": 120,
    "start_time": "2022-04-24T18:31:14.254Z"
   },
   {
    "duration": 344,
    "start_time": "2022-04-24T18:41:17.286Z"
   },
   {
    "duration": 336,
    "start_time": "2022-04-24T18:41:23.958Z"
   },
   {
    "duration": 279,
    "start_time": "2022-04-24T18:41:30.878Z"
   },
   {
    "duration": 116,
    "start_time": "2022-04-24T18:41:40.821Z"
   },
   {
    "duration": 335,
    "start_time": "2022-04-24T18:44:53.100Z"
   },
   {
    "duration": 315,
    "start_time": "2022-04-24T18:45:05.501Z"
   },
   {
    "duration": 287,
    "start_time": "2022-04-24T18:46:10.198Z"
   },
   {
    "duration": 132,
    "start_time": "2022-04-24T18:47:14.654Z"
   },
   {
    "duration": 114,
    "start_time": "2022-04-24T18:47:33.186Z"
   },
   {
    "duration": 271,
    "start_time": "2022-04-24T18:48:32.780Z"
   },
   {
    "duration": 319,
    "start_time": "2022-04-24T18:48:40.754Z"
   },
   {
    "duration": 322,
    "start_time": "2022-04-24T18:49:14.303Z"
   },
   {
    "duration": 300,
    "start_time": "2022-04-24T18:51:02.180Z"
   },
   {
    "duration": 135,
    "start_time": "2022-04-24T18:52:36.355Z"
   },
   {
    "duration": 130,
    "start_time": "2022-04-24T18:52:51.308Z"
   },
   {
    "duration": 387,
    "start_time": "2022-04-24T18:53:35.664Z"
   },
   {
    "duration": 149,
    "start_time": "2022-04-24T18:53:40.873Z"
   },
   {
    "duration": 118,
    "start_time": "2022-04-24T18:57:09.680Z"
   },
   {
    "duration": 293,
    "start_time": "2022-04-24T18:58:40.849Z"
   },
   {
    "duration": 271,
    "start_time": "2022-04-24T19:00:15.706Z"
   },
   {
    "duration": 193,
    "start_time": "2022-04-24T19:00:29.802Z"
   },
   {
    "duration": 172,
    "start_time": "2022-04-24T19:02:48.276Z"
   },
   {
    "duration": 221,
    "start_time": "2022-04-24T19:04:23.891Z"
   },
   {
    "duration": 288,
    "start_time": "2022-04-24T19:04:55.115Z"
   },
   {
    "duration": 212,
    "start_time": "2022-04-24T19:05:09.756Z"
   },
   {
    "duration": 143,
    "start_time": "2022-04-24T19:07:22.318Z"
   },
   {
    "duration": 243,
    "start_time": "2022-04-24T19:08:14.946Z"
   },
   {
    "duration": 275,
    "start_time": "2022-04-24T19:08:29.539Z"
   },
   {
    "duration": 119,
    "start_time": "2022-04-24T19:09:07.086Z"
   },
   {
    "duration": 274,
    "start_time": "2022-04-24T19:11:27.527Z"
   },
   {
    "duration": 138,
    "start_time": "2022-04-24T19:12:00.904Z"
   },
   {
    "duration": 111,
    "start_time": "2022-04-24T19:12:10.306Z"
   },
   {
    "duration": 288,
    "start_time": "2022-04-24T19:12:47.872Z"
   },
   {
    "duration": 348,
    "start_time": "2022-04-24T19:14:06.164Z"
   },
   {
    "duration": 262,
    "start_time": "2022-04-24T19:14:41.024Z"
   },
   {
    "duration": 286,
    "start_time": "2022-04-24T19:14:58.433Z"
   },
   {
    "duration": 292,
    "start_time": "2022-04-24T19:15:15.243Z"
   },
   {
    "duration": 253,
    "start_time": "2022-04-24T19:15:24.203Z"
   },
   {
    "duration": 126,
    "start_time": "2022-04-24T19:15:55.819Z"
   },
   {
    "duration": 286,
    "start_time": "2022-04-24T19:22:00.493Z"
   },
   {
    "duration": 121,
    "start_time": "2022-04-24T19:23:59.569Z"
   },
   {
    "duration": 261,
    "start_time": "2022-04-24T19:24:37.906Z"
   },
   {
    "duration": 131,
    "start_time": "2022-04-24T19:24:44.033Z"
   },
   {
    "duration": 220,
    "start_time": "2022-04-24T19:26:25.398Z"
   },
   {
    "duration": 245,
    "start_time": "2022-04-24T19:27:31.144Z"
   },
   {
    "duration": 695,
    "start_time": "2022-04-25T05:17:34.591Z"
   },
   {
    "duration": 6595,
    "start_time": "2022-04-25T05:17:35.288Z"
   },
   {
    "duration": 206,
    "start_time": "2022-04-25T05:17:41.885Z"
   },
   {
    "duration": 61,
    "start_time": "2022-04-25T05:17:42.094Z"
   },
   {
    "duration": 62,
    "start_time": "2022-04-25T05:17:42.157Z"
   },
   {
    "duration": 60,
    "start_time": "2022-04-25T05:17:42.221Z"
   },
   {
    "duration": 63,
    "start_time": "2022-04-25T05:17:42.284Z"
   },
   {
    "duration": 63,
    "start_time": "2022-04-25T05:17:42.349Z"
   },
   {
    "duration": 63,
    "start_time": "2022-04-25T05:17:42.414Z"
   },
   {
    "duration": 60,
    "start_time": "2022-04-25T05:17:42.481Z"
   },
   {
    "duration": 60,
    "start_time": "2022-04-25T05:17:42.543Z"
   },
   {
    "duration": 60,
    "start_time": "2022-04-25T05:17:42.605Z"
   },
   {
    "duration": 59,
    "start_time": "2022-04-25T05:17:42.667Z"
   },
   {
    "duration": 75,
    "start_time": "2022-04-25T05:17:42.728Z"
   },
   {
    "duration": 127,
    "start_time": "2022-04-25T05:17:42.806Z"
   },
   {
    "duration": 63,
    "start_time": "2022-04-25T05:17:42.935Z"
   },
   {
    "duration": 91,
    "start_time": "2022-04-25T05:17:43.001Z"
   },
   {
    "duration": 126,
    "start_time": "2022-04-25T05:17:43.094Z"
   },
   {
    "duration": 62,
    "start_time": "2022-04-25T05:17:43.222Z"
   },
   {
    "duration": 62,
    "start_time": "2022-04-25T05:17:43.287Z"
   },
   {
    "duration": 64,
    "start_time": "2022-04-25T05:17:43.352Z"
   },
   {
    "duration": 72,
    "start_time": "2022-04-25T05:17:43.418Z"
   },
   {
    "duration": 70,
    "start_time": "2022-04-25T05:17:43.493Z"
   },
   {
    "duration": 76,
    "start_time": "2022-04-25T05:17:43.566Z"
   },
   {
    "duration": 5,
    "start_time": "2022-04-25T05:17:43.645Z"
   },
   {
    "duration": 93,
    "start_time": "2022-04-25T05:17:43.653Z"
   },
   {
    "duration": 91,
    "start_time": "2022-04-25T05:23:36.116Z"
   },
   {
    "duration": 277,
    "start_time": "2022-04-25T05:58:27.007Z"
   },
   {
    "duration": 179,
    "start_time": "2022-04-25T05:59:20.967Z"
   },
   {
    "duration": 246,
    "start_time": "2022-04-25T06:00:36.017Z"
   },
   {
    "duration": 72,
    "start_time": "2022-04-25T06:02:24.025Z"
   },
   {
    "duration": 190,
    "start_time": "2022-04-25T06:03:01.109Z"
   },
   {
    "duration": 71,
    "start_time": "2022-04-25T06:03:18.602Z"
   },
   {
    "duration": 319,
    "start_time": "2022-04-25T06:25:28.288Z"
   },
   {
    "duration": 211,
    "start_time": "2022-04-25T06:25:48.242Z"
   },
   {
    "duration": 332,
    "start_time": "2022-04-25T06:33:45.344Z"
   },
   {
    "duration": 220,
    "start_time": "2022-04-25T06:35:10.310Z"
   },
   {
    "duration": 184,
    "start_time": "2022-04-25T06:44:51.492Z"
   },
   {
    "duration": 185,
    "start_time": "2022-04-25T06:47:03.338Z"
   },
   {
    "duration": 84,
    "start_time": "2022-04-25T06:47:41.054Z"
   },
   {
    "duration": 1134,
    "start_time": "2022-04-25T06:49:46.349Z"
   },
   {
    "duration": 85,
    "start_time": "2022-04-25T06:49:57.883Z"
   },
   {
    "duration": 210,
    "start_time": "2022-04-25T06:50:33.544Z"
   },
   {
    "duration": 186,
    "start_time": "2022-04-25T06:51:55.119Z"
   },
   {
    "duration": 83,
    "start_time": "2022-04-25T06:52:02.169Z"
   },
   {
    "duration": 244,
    "start_time": "2022-04-25T07:33:30.456Z"
   },
   {
    "duration": 245,
    "start_time": "2022-04-25T07:33:41.322Z"
   },
   {
    "duration": 193,
    "start_time": "2022-04-25T07:33:56.459Z"
   },
   {
    "duration": 204,
    "start_time": "2022-04-25T07:34:07.206Z"
   },
   {
    "duration": 81,
    "start_time": "2022-04-25T07:34:25.885Z"
   },
   {
    "duration": 81,
    "start_time": "2022-04-25T07:35:33.018Z"
   },
   {
    "duration": 210,
    "start_time": "2022-04-25T07:35:41.712Z"
   },
   {
    "duration": 209,
    "start_time": "2022-04-25T07:37:34.001Z"
   },
   {
    "duration": 233,
    "start_time": "2022-04-25T07:38:34.343Z"
   },
   {
    "duration": 225,
    "start_time": "2022-04-25T07:38:41.918Z"
   },
   {
    "duration": 184,
    "start_time": "2022-04-25T07:40:11.539Z"
   },
   {
    "duration": 244,
    "start_time": "2022-04-25T07:43:18.248Z"
   },
   {
    "duration": 66,
    "start_time": "2022-04-25T07:43:44.022Z"
   },
   {
    "duration": 66,
    "start_time": "2022-04-25T07:44:53.516Z"
   },
   {
    "duration": 255,
    "start_time": "2022-04-25T07:45:09.644Z"
   },
   {
    "duration": 67,
    "start_time": "2022-04-25T07:46:19.117Z"
   },
   {
    "duration": 69,
    "start_time": "2022-04-25T07:48:34.609Z"
   },
   {
    "duration": 66,
    "start_time": "2022-04-25T07:52:01.143Z"
   },
   {
    "duration": 458,
    "start_time": "2022-04-25T08:08:44.106Z"
   },
   {
    "duration": 180,
    "start_time": "2022-04-25T08:09:00.171Z"
   },
   {
    "duration": 313,
    "start_time": "2022-04-25T08:09:07.331Z"
   },
   {
    "duration": 70,
    "start_time": "2022-04-25T08:09:52.010Z"
   },
   {
    "duration": 185,
    "start_time": "2022-04-25T08:11:06.964Z"
   },
   {
    "duration": 344,
    "start_time": "2022-04-25T08:11:26.012Z"
   },
   {
    "duration": 186,
    "start_time": "2022-04-25T08:11:38.149Z"
   },
   {
    "duration": 66,
    "start_time": "2022-04-25T08:12:17.451Z"
   },
   {
    "duration": 67,
    "start_time": "2022-04-25T08:13:16.166Z"
   },
   {
    "duration": 218,
    "start_time": "2022-04-25T08:13:40.182Z"
   },
   {
    "duration": 71,
    "start_time": "2022-04-25T08:13:53.632Z"
   },
   {
    "duration": 75,
    "start_time": "2022-04-25T08:14:22.461Z"
   },
   {
    "duration": 72,
    "start_time": "2022-04-25T08:14:38.063Z"
   },
   {
    "duration": 187,
    "start_time": "2022-04-25T08:15:25.137Z"
   },
   {
    "duration": 174,
    "start_time": "2022-04-25T08:15:49.573Z"
   },
   {
    "duration": 178,
    "start_time": "2022-04-25T08:16:08.063Z"
   },
   {
    "duration": 1983,
    "start_time": "2022-04-25T08:16:46.000Z"
   },
   {
    "duration": 207,
    "start_time": "2022-04-25T08:16:53.655Z"
   },
   {
    "duration": 216,
    "start_time": "2022-04-25T08:17:16.708Z"
   },
   {
    "duration": 68,
    "start_time": "2022-04-25T08:17:21.541Z"
   },
   {
    "duration": 964,
    "start_time": "2022-04-25T08:18:05.621Z"
   },
   {
    "duration": 188,
    "start_time": "2022-04-25T08:18:15.127Z"
   },
   {
    "duration": 69,
    "start_time": "2022-04-25T08:18:32.725Z"
   },
   {
    "duration": 73,
    "start_time": "2022-04-25T08:24:16.143Z"
   },
   {
    "duration": 63,
    "start_time": "2022-04-25T08:26:05.732Z"
   },
   {
    "duration": 69,
    "start_time": "2022-04-25T08:27:00.319Z"
   },
   {
    "duration": 64,
    "start_time": "2022-04-25T08:27:39.726Z"
   },
   {
    "duration": 68,
    "start_time": "2022-04-25T08:32:50.506Z"
   },
   {
    "duration": 128,
    "start_time": "2022-04-25T08:58:37.348Z"
   },
   {
    "duration": 72,
    "start_time": "2022-04-25T09:12:37.158Z"
   },
   {
    "duration": 71,
    "start_time": "2022-04-25T09:14:41.206Z"
   },
   {
    "duration": 95,
    "start_time": "2022-04-25T09:14:51.533Z"
   },
   {
    "duration": 667,
    "start_time": "2022-04-25T09:19:20.651Z"
   },
   {
    "duration": 205,
    "start_time": "2022-04-25T09:20:23.012Z"
   },
   {
    "duration": 189,
    "start_time": "2022-04-25T09:20:32.081Z"
   },
   {
    "duration": 456,
    "start_time": "2022-04-25T09:20:43.942Z"
   },
   {
    "duration": 142,
    "start_time": "2022-04-25T09:21:00.948Z"
   },
   {
    "duration": 112,
    "start_time": "2022-04-25T09:37:09.356Z"
   },
   {
    "duration": 247,
    "start_time": "2022-04-25T10:21:01.122Z"
   },
   {
    "duration": 90,
    "start_time": "2022-04-25T10:22:05.484Z"
   },
   {
    "duration": 219,
    "start_time": "2022-04-25T10:22:49.932Z"
   },
   {
    "duration": 230,
    "start_time": "2022-04-25T10:23:30.290Z"
   },
   {
    "duration": 242,
    "start_time": "2022-04-25T10:23:58.148Z"
   },
   {
    "duration": 210,
    "start_time": "2022-04-25T10:24:13.373Z"
   },
   {
    "duration": 321,
    "start_time": "2022-04-25T10:25:19.851Z"
   },
   {
    "duration": 249,
    "start_time": "2022-04-25T10:52:33.118Z"
   },
   {
    "duration": 44,
    "start_time": "2022-04-25T11:37:53.690Z"
   },
   {
    "duration": 531,
    "start_time": "2022-04-25T11:38:04.867Z"
   },
   {
    "duration": 10794,
    "start_time": "2022-04-25T11:38:05.401Z"
   },
   {
    "duration": 51,
    "start_time": "2022-04-25T11:38:16.196Z"
   },
   {
    "duration": 9,
    "start_time": "2022-04-25T11:38:16.250Z"
   },
   {
    "duration": 11,
    "start_time": "2022-04-25T11:38:16.260Z"
   },
   {
    "duration": 8,
    "start_time": "2022-04-25T11:38:16.273Z"
   },
   {
    "duration": 10,
    "start_time": "2022-04-25T11:38:16.283Z"
   },
   {
    "duration": 12,
    "start_time": "2022-04-25T11:38:16.295Z"
   },
   {
    "duration": 12,
    "start_time": "2022-04-25T11:38:16.308Z"
   },
   {
    "duration": 8,
    "start_time": "2022-04-25T11:38:16.323Z"
   },
   {
    "duration": 10,
    "start_time": "2022-04-25T11:38:16.332Z"
   },
   {
    "duration": 9,
    "start_time": "2022-04-25T11:38:16.343Z"
   },
   {
    "duration": 9,
    "start_time": "2022-04-25T11:38:16.354Z"
   },
   {
    "duration": 23,
    "start_time": "2022-04-25T11:38:16.365Z"
   },
   {
    "duration": 32,
    "start_time": "2022-04-25T11:38:16.399Z"
   },
   {
    "duration": 25,
    "start_time": "2022-04-25T11:38:16.432Z"
   },
   {
    "duration": 10,
    "start_time": "2022-04-25T11:38:16.459Z"
   },
   {
    "duration": 10,
    "start_time": "2022-04-25T11:38:16.471Z"
   },
   {
    "duration": 13,
    "start_time": "2022-04-25T11:38:16.482Z"
   },
   {
    "duration": 3,
    "start_time": "2022-04-25T11:38:16.496Z"
   },
   {
    "duration": 13,
    "start_time": "2022-04-25T11:38:16.501Z"
   },
   {
    "duration": 23,
    "start_time": "2022-04-25T11:41:29.884Z"
   },
   {
    "duration": 33,
    "start_time": "2022-04-25T11:41:39.710Z"
   },
   {
    "duration": 27,
    "start_time": "2022-04-25T11:41:42.340Z"
   },
   {
    "duration": 15,
    "start_time": "2022-04-25T11:47:21.396Z"
   },
   {
    "duration": 26,
    "start_time": "2022-04-25T11:47:28.879Z"
   },
   {
    "duration": 17,
    "start_time": "2022-04-25T11:47:58.430Z"
   },
   {
    "duration": 17,
    "start_time": "2022-04-25T11:48:09.797Z"
   },
   {
    "duration": 14,
    "start_time": "2022-04-25T11:49:25.310Z"
   },
   {
    "duration": 14,
    "start_time": "2022-04-25T11:49:27.356Z"
   },
   {
    "duration": 15,
    "start_time": "2022-04-25T11:51:09.809Z"
   },
   {
    "duration": 15,
    "start_time": "2022-04-25T11:51:11.580Z"
   }
  ],
  "kernelspec": {
   "display_name": "Python 3",
   "language": "python",
   "name": "python3"
  },
  "language_info": {
   "codemirror_mode": {
    "name": "ipython",
    "version": 3
   },
   "file_extension": ".py",
   "mimetype": "text/x-python",
   "name": "python",
   "nbconvert_exporter": "python",
   "pygments_lexer": "ipython3",
   "version": "3.8.8"
  },
  "toc": {
   "base_numbering": 1,
   "nav_menu": {},
   "number_sections": true,
   "sideBar": true,
   "skip_h1_title": true,
   "title_cell": "Table of Contents",
   "title_sidebar": "Contents",
   "toc_cell": false,
   "toc_position": {},
   "toc_section_display": true,
   "toc_window_display": false
  }
 },
 "nbformat": 4,
 "nbformat_minor": 5
}
